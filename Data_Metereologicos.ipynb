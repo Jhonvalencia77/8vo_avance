{
 "cells": [
  {
   "cell_type": "code",
   "execution_count": 1,
   "id": "b4a4ea5b",
   "metadata": {},
   "outputs": [
    {
     "name": "stderr",
     "output_type": "stream",
     "text": [
      "/home/jonathan/anaconda3/lib/python3.9/site-packages/scipy/__init__.py:146: UserWarning: A NumPy version >=1.16.5 and <1.23.0 is required for this version of SciPy (detected version 1.23.2\n",
      "  warnings.warn(f\"A NumPy version >={np_minversion} and <{np_maxversion}\"\n"
     ]
    }
   ],
   "source": [
    "import numpy as np\n",
    "import seaborn as sb\n",
    "import pandas as pd\n",
    "import matplotlib.pyplot as plt\n",
    "from pandas import Grouper\n",
    "from pandas import DataFrame\n",
    "import csv\n",
    "import pickle\n",
    "import math\n",
    "import matrixprofile as mp\n",
    "from matplotlib.patches import Rectangle\n",
    "from fbprophet import Prophet\n",
    "from prophet.plot import plot_yearly\n",
    "from sklearn.metrics import mean_squared_error\n",
    "from prophet.diagnostics import cross_validation\n",
    "from prophet.diagnostics import performance_metrics\n",
    "from sklearn.model_selection import TimeSeriesSplit\n",
    "from numpy import sqrt\n",
    "import datetime\n",
    "from datetime import timedelta\n",
    "import plotly.graph_objs as go\n",
    "from sklearn.metrics import r2_score"
   ]
  },
  {
   "cell_type": "code",
   "execution_count": 2,
   "id": "407aa89d",
   "metadata": {},
   "outputs": [
    {
     "data": {
      "text/html": [
       "<div>\n",
       "<style scoped>\n",
       "    .dataframe tbody tr th:only-of-type {\n",
       "        vertical-align: middle;\n",
       "    }\n",
       "\n",
       "    .dataframe tbody tr th {\n",
       "        vertical-align: top;\n",
       "    }\n",
       "\n",
       "    .dataframe thead th {\n",
       "        text-align: right;\n",
       "    }\n",
       "</style>\n",
       "<table border=\"1\" class=\"dataframe\">\n",
       "  <thead>\n",
       "    <tr style=\"text-align: right;\">\n",
       "      <th></th>\n",
       "      <th>PROVINCIA</th>\n",
       "      <th>MUNICIPIO</th>\n",
       "      <th>ESTACION</th>\n",
       "      <th>MAGNITUD</th>\n",
       "      <th>PUNTO_MUESTREO</th>\n",
       "      <th>ANO</th>\n",
       "      <th>MES</th>\n",
       "      <th>DIA</th>\n",
       "      <th>H01</th>\n",
       "      <th>V01</th>\n",
       "      <th>...</th>\n",
       "      <th>H20</th>\n",
       "      <th>V20</th>\n",
       "      <th>H21</th>\n",
       "      <th>V21</th>\n",
       "      <th>H22</th>\n",
       "      <th>V22</th>\n",
       "      <th>H23</th>\n",
       "      <th>V23</th>\n",
       "      <th>H24</th>\n",
       "      <th>V24</th>\n",
       "    </tr>\n",
       "  </thead>\n",
       "  <tbody>\n",
       "    <tr>\n",
       "      <th>0</th>\n",
       "      <td>28</td>\n",
       "      <td>79</td>\n",
       "      <td>102</td>\n",
       "      <td>81</td>\n",
       "      <td>28079102_81_98</td>\n",
       "      <td>2020</td>\n",
       "      <td>5</td>\n",
       "      <td>1</td>\n",
       "      <td>2.3</td>\n",
       "      <td>V</td>\n",
       "      <td>...</td>\n",
       "      <td>3.82</td>\n",
       "      <td>V</td>\n",
       "      <td>2.58</td>\n",
       "      <td>V</td>\n",
       "      <td>1.8</td>\n",
       "      <td>V</td>\n",
       "      <td>1.17</td>\n",
       "      <td>V</td>\n",
       "      <td>1.47</td>\n",
       "      <td>V</td>\n",
       "    </tr>\n",
       "  </tbody>\n",
       "</table>\n",
       "<p>1 rows × 56 columns</p>\n",
       "</div>"
      ],
      "text/plain": [
       "   PROVINCIA  MUNICIPIO  ESTACION  MAGNITUD  PUNTO_MUESTREO   ANO  MES  DIA  \\\n",
       "0         28         79       102        81  28079102_81_98  2020    5    1   \n",
       "\n",
       "   H01 V01  ...   H20 V20   H21 V21  H22 V22   H23 V23   H24 V24  \n",
       "0  2.3   V  ...  3.82   V  2.58   V  1.8   V  1.17   V  1.47   V  \n",
       "\n",
       "[1 rows x 56 columns]"
      ]
     },
     "execution_count": 2,
     "metadata": {},
     "output_type": "execute_result"
    }
   ],
   "source": [
    "DataMeteo = pd.read_csv(\"/home/jonathan/tesis/Data_Temperatura_Lluvia/may_meteo20.csv\", sep=';')\n",
    "DataMeteo.head(1)"
   ]
  },
  {
   "cell_type": "markdown",
   "id": "3351898b",
   "metadata": {},
   "source": [
    "# Obtenemos datos de temperatura de la estación Chamberí\n",
    "### Punto de muestreo de Chamartín 28079111, estación 111 \n",
    "### Punto de muestreo de Centro 28079110, estación 110\n",
    "### Punto de muestreo de Chamberí 28079109, estación 109\n",
    "### Debido a que no se encuentra la estación 111 se procede a utilizar los datos de la estación Chamberí"
   ]
  },
  {
   "cell_type": "code",
   "execution_count": 3,
   "id": "94904c6e",
   "metadata": {},
   "outputs": [],
   "source": [
    "DataFiltrar = DataMeteo.loc[DataMeteo.loc[:,'ESTACION'] == 109]"
   ]
  },
  {
   "cell_type": "code",
   "execution_count": 4,
   "id": "f2b2c409",
   "metadata": {},
   "outputs": [],
   "source": [
    "DataTemp = DataFiltrar.loc[DataFiltrar.loc[:,'MAGNITUD'] == 83]"
   ]
  },
  {
   "cell_type": "code",
   "execution_count": 5,
   "id": "425801de",
   "metadata": {},
   "outputs": [
    {
     "data": {
      "text/html": [
       "<div>\n",
       "<style scoped>\n",
       "    .dataframe tbody tr th:only-of-type {\n",
       "        vertical-align: middle;\n",
       "    }\n",
       "\n",
       "    .dataframe tbody tr th {\n",
       "        vertical-align: top;\n",
       "    }\n",
       "\n",
       "    .dataframe thead th {\n",
       "        text-align: right;\n",
       "    }\n",
       "</style>\n",
       "<table border=\"1\" class=\"dataframe\">\n",
       "  <thead>\n",
       "    <tr style=\"text-align: right;\">\n",
       "      <th></th>\n",
       "      <th>PROVINCIA</th>\n",
       "      <th>MUNICIPIO</th>\n",
       "      <th>ESTACION</th>\n",
       "      <th>MAGNITUD</th>\n",
       "      <th>PUNTO_MUESTREO</th>\n",
       "      <th>ANO</th>\n",
       "      <th>MES</th>\n",
       "      <th>DIA</th>\n",
       "      <th>H01</th>\n",
       "      <th>V01</th>\n",
       "      <th>...</th>\n",
       "      <th>H20</th>\n",
       "      <th>V20</th>\n",
       "      <th>H21</th>\n",
       "      <th>V21</th>\n",
       "      <th>H22</th>\n",
       "      <th>V22</th>\n",
       "      <th>H23</th>\n",
       "      <th>V23</th>\n",
       "      <th>H24</th>\n",
       "      <th>V24</th>\n",
       "    </tr>\n",
       "  </thead>\n",
       "  <tbody>\n",
       "    <tr>\n",
       "      <th>1147</th>\n",
       "      <td>28</td>\n",
       "      <td>79</td>\n",
       "      <td>109</td>\n",
       "      <td>83</td>\n",
       "      <td>28079109_83_98</td>\n",
       "      <td>2020</td>\n",
       "      <td>5</td>\n",
       "      <td>1</td>\n",
       "      <td>13.4</td>\n",
       "      <td>V</td>\n",
       "      <td>...</td>\n",
       "      <td>20.3</td>\n",
       "      <td>V</td>\n",
       "      <td>18.8</td>\n",
       "      <td>V</td>\n",
       "      <td>17.7</td>\n",
       "      <td>V</td>\n",
       "      <td>17.0</td>\n",
       "      <td>V</td>\n",
       "      <td>16.4</td>\n",
       "      <td>V</td>\n",
       "    </tr>\n",
       "  </tbody>\n",
       "</table>\n",
       "<p>1 rows × 56 columns</p>\n",
       "</div>"
      ],
      "text/plain": [
       "      PROVINCIA  MUNICIPIO  ESTACION  MAGNITUD  PUNTO_MUESTREO   ANO  MES  \\\n",
       "1147         28         79       109        83  28079109_83_98  2020    5   \n",
       "\n",
       "      DIA   H01 V01  ...   H20 V20   H21 V21   H22 V22   H23 V23   H24 V24  \n",
       "1147    1  13.4   V  ...  20.3   V  18.8   V  17.7   V  17.0   V  16.4   V  \n",
       "\n",
       "[1 rows x 56 columns]"
      ]
     },
     "execution_count": 5,
     "metadata": {},
     "output_type": "execute_result"
    }
   ],
   "source": [
    "DataTemp.head(1)"
   ]
  },
  {
   "cell_type": "markdown",
   "id": "d87c99c7",
   "metadata": {},
   "source": [
    "# Obtenemos datos de Precipitación de la estación Hortaleza \n",
    "## Las estaciones que tienen datos de precipitación son las siguientes: 102,103,106,107,108,24,39,54,56,59"
   ]
  },
  {
   "cell_type": "code",
   "execution_count": 6,
   "id": "9a74dd48",
   "metadata": {},
   "outputs": [
    {
     "data": {
      "text/html": [
       "<div>\n",
       "<style scoped>\n",
       "    .dataframe tbody tr th:only-of-type {\n",
       "        vertical-align: middle;\n",
       "    }\n",
       "\n",
       "    .dataframe tbody tr th {\n",
       "        vertical-align: top;\n",
       "    }\n",
       "\n",
       "    .dataframe thead th {\n",
       "        text-align: right;\n",
       "    }\n",
       "</style>\n",
       "<table border=\"1\" class=\"dataframe\">\n",
       "  <thead>\n",
       "    <tr style=\"text-align: right;\">\n",
       "      <th></th>\n",
       "      <th>PROVINCIA</th>\n",
       "      <th>MUNICIPIO</th>\n",
       "      <th>ESTACION</th>\n",
       "      <th>MAGNITUD</th>\n",
       "      <th>PUNTO_MUESTREO</th>\n",
       "      <th>ANO</th>\n",
       "      <th>MES</th>\n",
       "      <th>DIA</th>\n",
       "      <th>H01</th>\n",
       "      <th>V01</th>\n",
       "      <th>...</th>\n",
       "      <th>H20</th>\n",
       "      <th>V20</th>\n",
       "      <th>H21</th>\n",
       "      <th>V21</th>\n",
       "      <th>H22</th>\n",
       "      <th>V22</th>\n",
       "      <th>H23</th>\n",
       "      <th>V23</th>\n",
       "      <th>H24</th>\n",
       "      <th>V24</th>\n",
       "    </tr>\n",
       "  </thead>\n",
       "  <tbody>\n",
       "    <tr>\n",
       "      <th>899</th>\n",
       "      <td>28</td>\n",
       "      <td>79</td>\n",
       "      <td>107</td>\n",
       "      <td>89</td>\n",
       "      <td>28079107_89_98</td>\n",
       "      <td>2020</td>\n",
       "      <td>5</td>\n",
       "      <td>1</td>\n",
       "      <td>0.0</td>\n",
       "      <td>V</td>\n",
       "      <td>...</td>\n",
       "      <td>0.0</td>\n",
       "      <td>V</td>\n",
       "      <td>0.0</td>\n",
       "      <td>V</td>\n",
       "      <td>0.0</td>\n",
       "      <td>V</td>\n",
       "      <td>0.0</td>\n",
       "      <td>V</td>\n",
       "      <td>0.0</td>\n",
       "      <td>V</td>\n",
       "    </tr>\n",
       "  </tbody>\n",
       "</table>\n",
       "<p>1 rows × 56 columns</p>\n",
       "</div>"
      ],
      "text/plain": [
       "     PROVINCIA  MUNICIPIO  ESTACION  MAGNITUD  PUNTO_MUESTREO   ANO  MES  DIA  \\\n",
       "899         28         79       107        89  28079107_89_98  2020    5    1   \n",
       "\n",
       "     H01 V01  ...  H20 V20  H21 V21  H22 V22  H23 V23  H24 V24  \n",
       "899  0.0   V  ...  0.0   V  0.0   V  0.0   V  0.0   V  0.0   V  \n",
       "\n",
       "[1 rows x 56 columns]"
      ]
     },
     "execution_count": 6,
     "metadata": {},
     "output_type": "execute_result"
    }
   ],
   "source": [
    "DataFiltrar2 = DataMeteo.loc[DataMeteo.loc[:,'ESTACION'] == 107]\n",
    "DataPrec = DataFiltrar2.loc[DataFiltrar2.loc[:,'MAGNITUD'] == 89]\n",
    "DataPrec.head(1)"
   ]
  },
  {
   "cell_type": "code",
   "execution_count": 7,
   "id": "cb9b99ed",
   "metadata": {},
   "outputs": [
    {
     "name": "stdout",
     "output_type": "stream",
     "text": [
      "      PUNTO_MUESTREO   ANO  MES  DIA   H01   H02   H03   H04   H05   H06  ...  \\\n",
      "1147  28079109_83_98  2020    5    1  13.4  13.0  12.7  12.2  11.8  11.7  ...   \n",
      "\n",
      "       H15   H16   H17   H18   H19   H20   H21   H22   H23   H24  \n",
      "1147  20.5  21.5  22.3  23.1  22.3  20.3  18.8  17.7  17.0  16.4  \n",
      "\n",
      "[1 rows x 28 columns]\n",
      "     PUNTO_MUESTREO   ANO  MES  DIA  H01  H02  H03  H04  H05  H06  ...  H15  \\\n",
      "899  28079107_89_98  2020    5    1  0.0  0.0  0.0  0.0  0.0  0.0  ...  0.0   \n",
      "\n",
      "     H16  H17  H18  H19  H20  H21  H22  H23  H24  \n",
      "899  0.0  0.0  0.0  0.0  0.0  0.0  0.0  0.0  0.0  \n",
      "\n",
      "[1 rows x 28 columns]\n"
     ]
    }
   ],
   "source": [
    "DataTemp = DataTemp.drop(columns=['PROVINCIA','MUNICIPIO','ESTACION','MAGNITUD','V01','V02','V03','V04','V05','V06','V07','V08','V09','V10','V11','V12','V13','V14','V15','V16','V17','V18','V19','V20','V21','V22','V23','V24'])\n",
    "DataPrec = DataPrec.drop(columns=['PROVINCIA','MUNICIPIO','ESTACION','MAGNITUD','V01','V02','V03','V04','V05','V06','V07','V08','V09','V10','V11','V12','V13','V14','V15','V16','V17','V18','V19','V20','V21','V22','V23','V24'])\n",
    "print(DataTemp.head(1))\n",
    "print(DataPrec.head(1))"
   ]
  }
 ],
 "metadata": {
  "kernelspec": {
   "display_name": "Python 3 (ipykernel)",
   "language": "python",
   "name": "python3"
  },
  "language_info": {
   "codemirror_mode": {
    "name": "ipython",
    "version": 3
   },
   "file_extension": ".py",
   "mimetype": "text/x-python",
   "name": "python",
   "nbconvert_exporter": "python",
   "pygments_lexer": "ipython3",
   "version": "3.9.7"
  }
 },
 "nbformat": 4,
 "nbformat_minor": 5
}
